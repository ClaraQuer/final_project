{
 "cells": [
  {
   "cell_type": "code",
   "execution_count": 1,
   "id": "a112eb60",
   "metadata": {},
   "outputs": [],
   "source": [
    "import pandas as pd\n",
    "import numpy as np\n",
    "import seaborn as sns\n",
    "import matplotlib.pyplot as plt\n",
    "from sklearn.preprocessing import MinMaxScaler\n",
    "from sklearn.preprocessing import StandardScaler\n",
    "from sklearn.neighbors import KNeighborsClassifier, KNeighborsRegressor\n",
    "from sklearn.linear_model import LogisticRegression\n",
    "from sklearn.linear_model import LinearRegression\n",
    "from sklearn.metrics import confusion_matrix\n",
    "from sklearn.utils import resample\n",
    "from imblearn.over_sampling import SMOTE\n",
    "from sklearn.metrics import r2_score\n",
    "from sklearn.metrics import precision_score\n",
    "from sklearn.metrics import recall_score\n",
    "from sklearn.metrics import f1_score\n",
    "from sklearn.preprocessing import OneHotEncoder\n",
    "from sklearn.model_selection import train_test_split\n",
    "from xgboost import XGBRegressor\n",
    "import xgboost as xgb\n",
    "from sklearn.metrics import confusion_matrix"
   ]
  },
  {
   "cell_type": "code",
   "execution_count": 2,
   "id": "8a2053a3",
   "metadata": {},
   "outputs": [],
   "source": [
    "%store -r clean_data"
   ]
  },
  {
   "cell_type": "code",
   "execution_count": 3,
   "id": "cd5e63a3",
   "metadata": {},
   "outputs": [
    {
     "data": {
      "text/html": [
       "<div>\n",
       "<style scoped>\n",
       "    .dataframe tbody tr th:only-of-type {\n",
       "        vertical-align: middle;\n",
       "    }\n",
       "\n",
       "    .dataframe tbody tr th {\n",
       "        vertical-align: top;\n",
       "    }\n",
       "\n",
       "    .dataframe thead th {\n",
       "        text-align: right;\n",
       "    }\n",
       "</style>\n",
       "<table border=\"1\" class=\"dataframe\">\n",
       "  <thead>\n",
       "    <tr style=\"text-align: right;\">\n",
       "      <th></th>\n",
       "      <th>pseudo_id</th>\n",
       "      <th>mission_id</th>\n",
       "      <th>mission_difficulty</th>\n",
       "      <th>mission_stars_collected</th>\n",
       "      <th>day_auto_increment</th>\n",
       "      <th>lifetime_played_runs</th>\n",
       "      <th>max_run_distance</th>\n",
       "      <th>total_purchases_virtual</th>\n",
       "      <th>total_ads_watched</th>\n",
       "      <th>total_purchases_real</th>\n",
       "      <th>geo_country</th>\n",
       "      <th>days_played_in_month</th>\n",
       "      <th>virtual_currency_balance</th>\n",
       "      <th>target_max_day_played</th>\n",
       "      <th>mission_played</th>\n",
       "      <th>sum_ads</th>\n",
       "      <th>sum_purchases_real</th>\n",
       "      <th>sum_purchases_virtual</th>\n",
       "    </tr>\n",
       "  </thead>\n",
       "  <tbody>\n",
       "    <tr>\n",
       "      <th>0</th>\n",
       "      <td>0</td>\n",
       "      <td>94</td>\n",
       "      <td>2</td>\n",
       "      <td>3</td>\n",
       "      <td>0</td>\n",
       "      <td>2</td>\n",
       "      <td>1763</td>\n",
       "      <td>2000</td>\n",
       "      <td>0</td>\n",
       "      <td>0</td>\n",
       "      <td>Honduras</td>\n",
       "      <td>0</td>\n",
       "      <td>5000</td>\n",
       "      <td>4</td>\n",
       "      <td>1</td>\n",
       "      <td>0</td>\n",
       "      <td>0</td>\n",
       "      <td>54500</td>\n",
       "    </tr>\n",
       "    <tr>\n",
       "      <th>1</th>\n",
       "      <td>0</td>\n",
       "      <td>109</td>\n",
       "      <td>1</td>\n",
       "      <td>4</td>\n",
       "      <td>0</td>\n",
       "      <td>3</td>\n",
       "      <td>2266</td>\n",
       "      <td>2000</td>\n",
       "      <td>0</td>\n",
       "      <td>0</td>\n",
       "      <td>Honduras</td>\n",
       "      <td>0</td>\n",
       "      <td>4238</td>\n",
       "      <td>4</td>\n",
       "      <td>2</td>\n",
       "      <td>0</td>\n",
       "      <td>0</td>\n",
       "      <td>54500</td>\n",
       "    </tr>\n",
       "    <tr>\n",
       "      <th>2</th>\n",
       "      <td>0</td>\n",
       "      <td>115</td>\n",
       "      <td>1</td>\n",
       "      <td>5</td>\n",
       "      <td>0</td>\n",
       "      <td>8</td>\n",
       "      <td>2266</td>\n",
       "      <td>3500</td>\n",
       "      <td>0</td>\n",
       "      <td>0</td>\n",
       "      <td>Honduras</td>\n",
       "      <td>0</td>\n",
       "      <td>3561</td>\n",
       "      <td>4</td>\n",
       "      <td>3</td>\n",
       "      <td>0</td>\n",
       "      <td>0</td>\n",
       "      <td>54500</td>\n",
       "    </tr>\n",
       "    <tr>\n",
       "      <th>3</th>\n",
       "      <td>0</td>\n",
       "      <td>114</td>\n",
       "      <td>1</td>\n",
       "      <td>6</td>\n",
       "      <td>2</td>\n",
       "      <td>9</td>\n",
       "      <td>2266</td>\n",
       "      <td>3500</td>\n",
       "      <td>0</td>\n",
       "      <td>0</td>\n",
       "      <td>Honduras</td>\n",
       "      <td>2</td>\n",
       "      <td>4284</td>\n",
       "      <td>4</td>\n",
       "      <td>4</td>\n",
       "      <td>0</td>\n",
       "      <td>0</td>\n",
       "      <td>54500</td>\n",
       "    </tr>\n",
       "    <tr>\n",
       "      <th>4</th>\n",
       "      <td>0</td>\n",
       "      <td>3</td>\n",
       "      <td>1</td>\n",
       "      <td>7</td>\n",
       "      <td>2</td>\n",
       "      <td>12</td>\n",
       "      <td>2266</td>\n",
       "      <td>7000</td>\n",
       "      <td>0</td>\n",
       "      <td>0</td>\n",
       "      <td>Honduras</td>\n",
       "      <td>2</td>\n",
       "      <td>1306</td>\n",
       "      <td>4</td>\n",
       "      <td>5</td>\n",
       "      <td>0</td>\n",
       "      <td>0</td>\n",
       "      <td>54500</td>\n",
       "    </tr>\n",
       "    <tr>\n",
       "      <th>...</th>\n",
       "      <td>...</td>\n",
       "      <td>...</td>\n",
       "      <td>...</td>\n",
       "      <td>...</td>\n",
       "      <td>...</td>\n",
       "      <td>...</td>\n",
       "      <td>...</td>\n",
       "      <td>...</td>\n",
       "      <td>...</td>\n",
       "      <td>...</td>\n",
       "      <td>...</td>\n",
       "      <td>...</td>\n",
       "      <td>...</td>\n",
       "      <td>...</td>\n",
       "      <td>...</td>\n",
       "      <td>...</td>\n",
       "      <td>...</td>\n",
       "      <td>...</td>\n",
       "    </tr>\n",
       "    <tr>\n",
       "      <th>2664754</th>\n",
       "      <td>90482</td>\n",
       "      <td>109</td>\n",
       "      <td>1</td>\n",
       "      <td>8</td>\n",
       "      <td>0</td>\n",
       "      <td>4</td>\n",
       "      <td>3743</td>\n",
       "      <td>0</td>\n",
       "      <td>2</td>\n",
       "      <td>0</td>\n",
       "      <td>United Kingdom</td>\n",
       "      <td>0</td>\n",
       "      <td>8078</td>\n",
       "      <td>2</td>\n",
       "      <td>6</td>\n",
       "      <td>15</td>\n",
       "      <td>0</td>\n",
       "      <td>1500</td>\n",
       "    </tr>\n",
       "    <tr>\n",
       "      <th>2664755</th>\n",
       "      <td>90482</td>\n",
       "      <td>11</td>\n",
       "      <td>1</td>\n",
       "      <td>8</td>\n",
       "      <td>0</td>\n",
       "      <td>4</td>\n",
       "      <td>3743</td>\n",
       "      <td>0</td>\n",
       "      <td>2</td>\n",
       "      <td>0</td>\n",
       "      <td>United Kingdom</td>\n",
       "      <td>0</td>\n",
       "      <td>8078</td>\n",
       "      <td>2</td>\n",
       "      <td>7</td>\n",
       "      <td>15</td>\n",
       "      <td>0</td>\n",
       "      <td>1500</td>\n",
       "    </tr>\n",
       "    <tr>\n",
       "      <th>2664756</th>\n",
       "      <td>90482</td>\n",
       "      <td>6</td>\n",
       "      <td>1</td>\n",
       "      <td>10</td>\n",
       "      <td>0</td>\n",
       "      <td>5</td>\n",
       "      <td>3743</td>\n",
       "      <td>0</td>\n",
       "      <td>3</td>\n",
       "      <td>0</td>\n",
       "      <td>United Kingdom</td>\n",
       "      <td>0</td>\n",
       "      <td>10336</td>\n",
       "      <td>2</td>\n",
       "      <td>8</td>\n",
       "      <td>15</td>\n",
       "      <td>0</td>\n",
       "      <td>1500</td>\n",
       "    </tr>\n",
       "    <tr>\n",
       "      <th>2664757</th>\n",
       "      <td>90482</td>\n",
       "      <td>19</td>\n",
       "      <td>2</td>\n",
       "      <td>10</td>\n",
       "      <td>0</td>\n",
       "      <td>5</td>\n",
       "      <td>3743</td>\n",
       "      <td>0</td>\n",
       "      <td>3</td>\n",
       "      <td>0</td>\n",
       "      <td>United Kingdom</td>\n",
       "      <td>0</td>\n",
       "      <td>10336</td>\n",
       "      <td>2</td>\n",
       "      <td>9</td>\n",
       "      <td>15</td>\n",
       "      <td>0</td>\n",
       "      <td>1500</td>\n",
       "    </tr>\n",
       "    <tr>\n",
       "      <th>2664758</th>\n",
       "      <td>90482</td>\n",
       "      <td>86</td>\n",
       "      <td>2</td>\n",
       "      <td>13</td>\n",
       "      <td>2</td>\n",
       "      <td>8</td>\n",
       "      <td>3743</td>\n",
       "      <td>1500</td>\n",
       "      <td>3</td>\n",
       "      <td>0</td>\n",
       "      <td>United Kingdom</td>\n",
       "      <td>2</td>\n",
       "      <td>11671</td>\n",
       "      <td>2</td>\n",
       "      <td>10</td>\n",
       "      <td>15</td>\n",
       "      <td>0</td>\n",
       "      <td>1500</td>\n",
       "    </tr>\n",
       "  </tbody>\n",
       "</table>\n",
       "<p>2664759 rows × 18 columns</p>\n",
       "</div>"
      ],
      "text/plain": [
       "         pseudo_id  mission_id  mission_difficulty  mission_stars_collected  \\\n",
       "0                0          94                   2                        3   \n",
       "1                0         109                   1                        4   \n",
       "2                0         115                   1                        5   \n",
       "3                0         114                   1                        6   \n",
       "4                0           3                   1                        7   \n",
       "...            ...         ...                 ...                      ...   \n",
       "2664754      90482         109                   1                        8   \n",
       "2664755      90482          11                   1                        8   \n",
       "2664756      90482           6                   1                       10   \n",
       "2664757      90482          19                   2                       10   \n",
       "2664758      90482          86                   2                       13   \n",
       "\n",
       "         day_auto_increment  lifetime_played_runs  max_run_distance  \\\n",
       "0                         0                     2              1763   \n",
       "1                         0                     3              2266   \n",
       "2                         0                     8              2266   \n",
       "3                         2                     9              2266   \n",
       "4                         2                    12              2266   \n",
       "...                     ...                   ...               ...   \n",
       "2664754                   0                     4              3743   \n",
       "2664755                   0                     4              3743   \n",
       "2664756                   0                     5              3743   \n",
       "2664757                   0                     5              3743   \n",
       "2664758                   2                     8              3743   \n",
       "\n",
       "         total_purchases_virtual  total_ads_watched  total_purchases_real  \\\n",
       "0                           2000                  0                     0   \n",
       "1                           2000                  0                     0   \n",
       "2                           3500                  0                     0   \n",
       "3                           3500                  0                     0   \n",
       "4                           7000                  0                     0   \n",
       "...                          ...                ...                   ...   \n",
       "2664754                        0                  2                     0   \n",
       "2664755                        0                  2                     0   \n",
       "2664756                        0                  3                     0   \n",
       "2664757                        0                  3                     0   \n",
       "2664758                     1500                  3                     0   \n",
       "\n",
       "            geo_country  days_played_in_month  virtual_currency_balance  \\\n",
       "0              Honduras                     0                      5000   \n",
       "1              Honduras                     0                      4238   \n",
       "2              Honduras                     0                      3561   \n",
       "3              Honduras                     2                      4284   \n",
       "4              Honduras                     2                      1306   \n",
       "...                 ...                   ...                       ...   \n",
       "2664754  United Kingdom                     0                      8078   \n",
       "2664755  United Kingdom                     0                      8078   \n",
       "2664756  United Kingdom                     0                     10336   \n",
       "2664757  United Kingdom                     0                     10336   \n",
       "2664758  United Kingdom                     2                     11671   \n",
       "\n",
       "         target_max_day_played  mission_played  sum_ads  sum_purchases_real  \\\n",
       "0                            4               1        0                   0   \n",
       "1                            4               2        0                   0   \n",
       "2                            4               3        0                   0   \n",
       "3                            4               4        0                   0   \n",
       "4                            4               5        0                   0   \n",
       "...                        ...             ...      ...                 ...   \n",
       "2664754                      2               6       15                   0   \n",
       "2664755                      2               7       15                   0   \n",
       "2664756                      2               8       15                   0   \n",
       "2664757                      2               9       15                   0   \n",
       "2664758                      2              10       15                   0   \n",
       "\n",
       "         sum_purchases_virtual  \n",
       "0                        54500  \n",
       "1                        54500  \n",
       "2                        54500  \n",
       "3                        54500  \n",
       "4                        54500  \n",
       "...                        ...  \n",
       "2664754                   1500  \n",
       "2664755                   1500  \n",
       "2664756                   1500  \n",
       "2664757                   1500  \n",
       "2664758                   1500  \n",
       "\n",
       "[2664759 rows x 18 columns]"
      ]
     },
     "execution_count": 3,
     "metadata": {},
     "output_type": "execute_result"
    }
   ],
   "source": [
    "clean_data"
   ]
  },
  {
   "cell_type": "code",
   "execution_count": 4,
   "id": "2719a9ec",
   "metadata": {},
   "outputs": [],
   "source": [
    "clean_data['real_purchase'] = np.where(clean_data['sum_purchases_real'] > 0, True, False)"
   ]
  },
  {
   "cell_type": "code",
   "execution_count": 5,
   "id": "a54b1258",
   "metadata": {},
   "outputs": [
    {
     "data": {
      "text/plain": [
       "False    2612614\n",
       "True       52145\n",
       "Name: real_purchase, dtype: int64"
      ]
     },
     "execution_count": 5,
     "metadata": {},
     "output_type": "execute_result"
    }
   ],
   "source": [
    "clean_data['real_purchase'].value_counts()"
   ]
  },
  {
   "cell_type": "code",
   "execution_count": 6,
   "id": "18d25185",
   "metadata": {},
   "outputs": [
    {
     "data": {
      "text/plain": [
       "0.15823365312384008"
      ]
     },
     "execution_count": 6,
     "metadata": {},
     "output_type": "execute_result"
    }
   ],
   "source": [
    "X = clean_data.drop(['real_purchase', 'geo_country'],axis=1)\n",
    "y = clean_data['real_purchase']\n",
    "\n",
    "X_train, X_test, y_train, y_test = train_test_split(X,y)\n",
    "\n",
    "numericals_train = X_train.select_dtypes(np.number)\n",
    "numericals_test = X_test.select_dtypes(np.number)\n",
    "\n",
    "categoricals_train= X_train.select_dtypes(object)\n",
    "categoricals_test= X_test.select_dtypes(object)\n",
    "\n",
    "transformer = StandardScaler().fit(numericals_train)\n",
    "numericals_train_standardized = transformer.transform(numericals_train)\n",
    "numericals_test_standardized = transformer.transform(numericals_test)\n",
    "\n",
    "encoder = OneHotEncoder(handle_unknown='error', drop='first').fit(categoricals_train)\n",
    "categoricals_train_encoded = encoder.transform(categoricals_train).toarray()\n",
    "categoricals_test_encoded = encoder.transform(categoricals_test).toarray()\n",
    "\n",
    "X_train = np.concatenate((numericals_train_standardized,categoricals_train_encoded),axis=1)\n",
    "X_test = np.concatenate((numericals_test_standardized,categoricals_test_encoded),axis=1)\n",
    "\n",
    "LR = LinearRegression().fit(X_train,y_train)\n",
    "\n",
    "score = LR.score(X_test, y_test)\n",
    "score"
   ]
  },
  {
   "cell_type": "code",
   "execution_count": 7,
   "id": "281f1e14",
   "metadata": {},
   "outputs": [
    {
     "data": {
      "text/plain": [
       "0.9803539530764497"
      ]
     },
     "execution_count": 7,
     "metadata": {},
     "output_type": "execute_result"
    }
   ],
   "source": [
    "X = clean_data.drop(['real_purchase', 'total_purchases_real', 'pseudo_id', 'sum_purchases_real', 'geo_country'],axis=1)\n",
    "y = clean_data['real_purchase']\n",
    "\n",
    "X_train, X_test, y_train, y_test = train_test_split(X,y)\n",
    "\n",
    "numericals_train = X_train.select_dtypes(np.number)\n",
    "numericals_test = X_test.select_dtypes(np.number)\n",
    "\n",
    "categoricals_train= X_train.select_dtypes(object)\n",
    "categoricals_test= X_test.select_dtypes(object)\n",
    "\n",
    "transformer = StandardScaler().fit(numericals_train)\n",
    "numericals_train_standardized = transformer.transform(numericals_train)\n",
    "numericals_test_standardized = transformer.transform(numericals_test)\n",
    "\n",
    "encoder = OneHotEncoder(handle_unknown='error', drop='first').fit(categoricals_train)\n",
    "categoricals_train_encoded = encoder.transform(categoricals_train).toarray()\n",
    "categoricals_test_encoded = encoder.transform(categoricals_test).toarray()\n",
    "\n",
    "X_train = np.concatenate((numericals_train_standardized,categoricals_train_encoded),axis=1)\n",
    "X_test = np.concatenate((numericals_test_standardized,categoricals_test_encoded),axis=1)\n",
    "\n",
    "LR = LogisticRegression(random_state=0, solver='lbfgs')\n",
    "LR.fit(X_train, y_train)\n",
    "\n",
    "LR.score(X_test, y_test)"
   ]
  },
  {
   "cell_type": "code",
   "execution_count": 8,
   "id": "00f07fc4",
   "metadata": {},
   "outputs": [],
   "source": [
    "predictions = LR.predict(X_test)"
   ]
  },
  {
   "cell_type": "code",
   "execution_count": 9,
   "id": "78faa97d",
   "metadata": {},
   "outputs": [],
   "source": [
    "predictions = pd.DataFrame(predictions, columns = ['pred'])"
   ]
  },
  {
   "cell_type": "code",
   "execution_count": 10,
   "id": "38581874",
   "metadata": {},
   "outputs": [
    {
     "data": {
      "text/plain": [
       "array([[653102,      0],\n",
       "       [ 13088,      0]], dtype=int64)"
      ]
     },
     "execution_count": 10,
     "metadata": {},
     "output_type": "execute_result"
    }
   ],
   "source": [
    "cm = confusion_matrix(y_test, predictions)\n",
    "cm"
   ]
  },
  {
   "cell_type": "code",
   "execution_count": 11,
   "id": "225ec5a3",
   "metadata": {},
   "outputs": [],
   "source": [
    "from imblearn.over_sampling import SMOTE"
   ]
  },
  {
   "cell_type": "code",
   "execution_count": 12,
   "id": "c8dd3e40",
   "metadata": {},
   "outputs": [],
   "source": [
    "sm = SMOTE(random_state=100,k_neighbors=3)\n",
    "X_train_SMOTE,y_train_SMOTE = sm.fit_resample(X_train, y_train)"
   ]
  },
  {
   "cell_type": "code",
   "execution_count": 13,
   "id": "c156cd6a",
   "metadata": {},
   "outputs": [
    {
     "data": {
      "text/plain": [
       "(3919024, 14)"
      ]
     },
     "execution_count": 13,
     "metadata": {},
     "output_type": "execute_result"
    }
   ],
   "source": [
    "X_train_SMOTE.shape"
   ]
  },
  {
   "cell_type": "code",
   "execution_count": 14,
   "id": "5528bee2",
   "metadata": {},
   "outputs": [
    {
     "name": "stdout",
     "output_type": "stream",
     "text": [
      "precision:  0.022166475856960063\n",
      "recall:  0.5029798288508558\n",
      "f1:  0.042461653572764685\n"
     ]
    }
   ],
   "source": [
    "from sklearn.linear_model import LogisticRegression\n",
    "\n",
    "LR = LogisticRegression(max_iter=1000)\n",
    "LR.fit(X_train_SMOTE, y_train_SMOTE)\n",
    "pred = LR.predict(X_test)\n",
    "\n",
    "print(\"precision: \",precision_score(y_test,pred))\n",
    "print(\"recall: \",recall_score(y_test,pred))\n",
    "print(\"f1: \",f1_score(y_test,pred))"
   ]
  },
  {
   "cell_type": "code",
   "execution_count": 15,
   "id": "df7426ef",
   "metadata": {},
   "outputs": [
    {
     "data": {
      "text/plain": [
       "array([[362705, 290397],\n",
       "       [  6505,   6583]], dtype=int64)"
      ]
     },
     "execution_count": 15,
     "metadata": {},
     "output_type": "execute_result"
    }
   ],
   "source": [
    "cm = confusion_matrix(y_test, pred)\n",
    "cm"
   ]
  },
  {
   "cell_type": "code",
   "execution_count": 16,
   "id": "bb3d7a89",
   "metadata": {},
   "outputs": [
    {
     "data": {
      "text/plain": [
       "RFE(estimator=LogisticRegression(max_iter=1000), n_features_to_select=1,\n",
       "    verbose=False)"
      ]
     },
     "execution_count": 16,
     "metadata": {},
     "output_type": "execute_result"
    }
   ],
   "source": [
    "from sklearn.feature_selection import RFE\n",
    "rfe = RFE(LR, n_features_to_select = 1, verbose = False)\n",
    "rfe.fit(X_train, y_train)"
   ]
  },
  {
   "cell_type": "code",
   "execution_count": 17,
   "id": "5bbd7251",
   "metadata": {},
   "outputs": [],
   "source": [
    "df = pd.DataFrame(data = rfe.ranking_, columns=['Rank'])\n",
    "df['Column_name'] = X.columns\n",
    "df = df[df['Rank']==1]"
   ]
  },
  {
   "cell_type": "code",
   "execution_count": 18,
   "id": "8891aae2",
   "metadata": {
    "scrolled": false
   },
   "outputs": [
    {
     "data": {
      "text/html": [
       "<div>\n",
       "<style scoped>\n",
       "    .dataframe tbody tr th:only-of-type {\n",
       "        vertical-align: middle;\n",
       "    }\n",
       "\n",
       "    .dataframe tbody tr th {\n",
       "        vertical-align: top;\n",
       "    }\n",
       "\n",
       "    .dataframe thead th {\n",
       "        text-align: right;\n",
       "    }\n",
       "</style>\n",
       "<table border=\"1\" class=\"dataframe\">\n",
       "  <thead>\n",
       "    <tr style=\"text-align: right;\">\n",
       "      <th></th>\n",
       "      <th>Rank</th>\n",
       "      <th>Column_name</th>\n",
       "    </tr>\n",
       "  </thead>\n",
       "  <tbody>\n",
       "    <tr>\n",
       "      <th>5</th>\n",
       "      <td>1</td>\n",
       "      <td>max_run_distance</td>\n",
       "    </tr>\n",
       "  </tbody>\n",
       "</table>\n",
       "</div>"
      ],
      "text/plain": [
       "   Rank       Column_name\n",
       "5     1  max_run_distance"
      ]
     },
     "execution_count": 18,
     "metadata": {},
     "output_type": "execute_result"
    }
   ],
   "source": [
    "df"
   ]
  },
  {
   "cell_type": "markdown",
   "id": "138de7a6",
   "metadata": {},
   "source": [
    "The variable that helps predict best the result is \"max_run_distance\""
   ]
  },
  {
   "cell_type": "code",
   "execution_count": 19,
   "id": "ac90401a",
   "metadata": {
    "scrolled": true
   },
   "outputs": [
    {
     "data": {
      "text/plain": [
       "RFE(estimator=LogisticRegression(max_iter=1000), n_features_to_select=10,\n",
       "    verbose=False)"
      ]
     },
     "execution_count": 19,
     "metadata": {},
     "output_type": "execute_result"
    }
   ],
   "source": [
    "from sklearn.feature_selection import RFE\n",
    "rfe = RFE(LR, n_features_to_select = 10, verbose = False)\n",
    "rfe.fit(X_train, y_train)"
   ]
  },
  {
   "cell_type": "code",
   "execution_count": 20,
   "id": "e4488e01",
   "metadata": {},
   "outputs": [
    {
     "data": {
      "text/html": [
       "<div>\n",
       "<style scoped>\n",
       "    .dataframe tbody tr th:only-of-type {\n",
       "        vertical-align: middle;\n",
       "    }\n",
       "\n",
       "    .dataframe tbody tr th {\n",
       "        vertical-align: top;\n",
       "    }\n",
       "\n",
       "    .dataframe thead th {\n",
       "        text-align: right;\n",
       "    }\n",
       "</style>\n",
       "<table border=\"1\" class=\"dataframe\">\n",
       "  <thead>\n",
       "    <tr style=\"text-align: right;\">\n",
       "      <th></th>\n",
       "      <th>Rank</th>\n",
       "      <th>Column_name</th>\n",
       "    </tr>\n",
       "  </thead>\n",
       "  <tbody>\n",
       "    <tr>\n",
       "      <th>0</th>\n",
       "      <td>2</td>\n",
       "      <td>mission_id</td>\n",
       "    </tr>\n",
       "    <tr>\n",
       "      <th>1</th>\n",
       "      <td>1</td>\n",
       "      <td>mission_difficulty</td>\n",
       "    </tr>\n",
       "    <tr>\n",
       "      <th>2</th>\n",
       "      <td>1</td>\n",
       "      <td>mission_stars_collected</td>\n",
       "    </tr>\n",
       "    <tr>\n",
       "      <th>3</th>\n",
       "      <td>1</td>\n",
       "      <td>day_auto_increment</td>\n",
       "    </tr>\n",
       "    <tr>\n",
       "      <th>4</th>\n",
       "      <td>1</td>\n",
       "      <td>lifetime_played_runs</td>\n",
       "    </tr>\n",
       "    <tr>\n",
       "      <th>5</th>\n",
       "      <td>1</td>\n",
       "      <td>max_run_distance</td>\n",
       "    </tr>\n",
       "    <tr>\n",
       "      <th>6</th>\n",
       "      <td>1</td>\n",
       "      <td>total_purchases_virtual</td>\n",
       "    </tr>\n",
       "    <tr>\n",
       "      <th>7</th>\n",
       "      <td>4</td>\n",
       "      <td>total_ads_watched</td>\n",
       "    </tr>\n",
       "    <tr>\n",
       "      <th>8</th>\n",
       "      <td>5</td>\n",
       "      <td>days_played_in_month</td>\n",
       "    </tr>\n",
       "    <tr>\n",
       "      <th>9</th>\n",
       "      <td>1</td>\n",
       "      <td>virtual_currency_balance</td>\n",
       "    </tr>\n",
       "    <tr>\n",
       "      <th>10</th>\n",
       "      <td>1</td>\n",
       "      <td>target_max_day_played</td>\n",
       "    </tr>\n",
       "    <tr>\n",
       "      <th>11</th>\n",
       "      <td>1</td>\n",
       "      <td>mission_played</td>\n",
       "    </tr>\n",
       "    <tr>\n",
       "      <th>12</th>\n",
       "      <td>3</td>\n",
       "      <td>sum_ads</td>\n",
       "    </tr>\n",
       "    <tr>\n",
       "      <th>13</th>\n",
       "      <td>1</td>\n",
       "      <td>sum_purchases_virtual</td>\n",
       "    </tr>\n",
       "  </tbody>\n",
       "</table>\n",
       "</div>"
      ],
      "text/plain": [
       "    Rank               Column_name\n",
       "0      2                mission_id\n",
       "1      1        mission_difficulty\n",
       "2      1   mission_stars_collected\n",
       "3      1        day_auto_increment\n",
       "4      1      lifetime_played_runs\n",
       "5      1          max_run_distance\n",
       "6      1   total_purchases_virtual\n",
       "7      4         total_ads_watched\n",
       "8      5      days_played_in_month\n",
       "9      1  virtual_currency_balance\n",
       "10     1     target_max_day_played\n",
       "11     1            mission_played\n",
       "12     3                   sum_ads\n",
       "13     1     sum_purchases_virtual"
      ]
     },
     "execution_count": 20,
     "metadata": {},
     "output_type": "execute_result"
    }
   ],
   "source": [
    "df = pd.DataFrame(data = rfe.ranking_, columns=['Rank'])\n",
    "df['Column_name'] = X.columns\n",
    "# df = df[df['Rank']==1]\n",
    "df"
   ]
  },
  {
   "cell_type": "code",
   "execution_count": 21,
   "id": "9e3f5a7a",
   "metadata": {},
   "outputs": [
    {
     "data": {
      "text/plain": [
       "['mission_id',\n",
       " 'mission_difficulty',\n",
       " 'mission_stars_collected',\n",
       " 'day_auto_increment',\n",
       " 'lifetime_played_runs',\n",
       " 'max_run_distance',\n",
       " 'total_purchases_virtual',\n",
       " 'total_ads_watched',\n",
       " 'days_played_in_month',\n",
       " 'virtual_currency_balance',\n",
       " 'target_max_day_played',\n",
       " 'mission_played',\n",
       " 'sum_ads',\n",
       " 'sum_purchases_virtual']"
      ]
     },
     "execution_count": 21,
     "metadata": {},
     "output_type": "execute_result"
    }
   ],
   "source": [
    "best_cols = []\n",
    "for i in df['Column_name']:\n",
    "    best_cols.append(str(i))\n",
    "best_cols"
   ]
  },
  {
   "cell_type": "code",
   "execution_count": 22,
   "id": "edad243d",
   "metadata": {},
   "outputs": [],
   "source": [
    "X = clean_data[(best_cols)]\n",
    "y = clean_data['real_purchase']\n",
    "X_train, X_test, y_train, y_test = train_test_split(X,y)\n",
    "\n",
    "numericals_train = X_train.select_dtypes(np.number)\n",
    "numericals_test = X_test.select_dtypes(np.number)\n",
    "\n",
    "categoricals_train= X_train.select_dtypes(object)\n",
    "categoricals_test= X_test.select_dtypes(object)\n",
    "\n",
    "transformer = StandardScaler().fit(numericals_train)\n",
    "numericals_train_standardized = transformer.transform(numericals_train)\n",
    "numericals_test_standardized = transformer.transform(numericals_test)\n",
    "\n",
    "encoder = OneHotEncoder(handle_unknown='error', drop='first').fit(categoricals_train)\n",
    "categoricals_train_encoded = encoder.transform(categoricals_train).toarray()\n",
    "categoricals_test_encoded = encoder.transform(categoricals_test).toarray()\n",
    "\n",
    "X_train = np.concatenate((numericals_train_standardized,categoricals_train_encoded),axis=1)\n",
    "X_test = np.concatenate((numericals_test_standardized,categoricals_test_encoded),axis=1)\n"
   ]
  },
  {
   "cell_type": "code",
   "execution_count": 23,
   "id": "75b199f5",
   "metadata": {},
   "outputs": [],
   "source": [
    "sm = SMOTE(random_state=100,k_neighbors=3)\n",
    "X_train_SMOTE,y_train_SMOTE = sm.fit_resample(X_train, y_train)"
   ]
  },
  {
   "cell_type": "code",
   "execution_count": 24,
   "id": "2903c983",
   "metadata": {},
   "outputs": [
    {
     "name": "stdout",
     "output_type": "stream",
     "text": [
      "precision:  0.02201746166809587\n",
      "recall:  0.5098520279076899\n",
      "f1:  0.04221203773057929\n"
     ]
    }
   ],
   "source": [
    "LR = LogisticRegression(max_iter=1000)\n",
    "LR.fit(X_train_SMOTE, y_train_SMOTE)\n",
    "pred = LR.predict(X_test)\n",
    "\n",
    "print(\"precision: \",precision_score(y_test,pred))\n",
    "print(\"recall: \",recall_score(y_test,pred))\n",
    "print(\"f1: \",f1_score(y_test,pred))"
   ]
  },
  {
   "cell_type": "code",
   "execution_count": null,
   "id": "d02ba7a0",
   "metadata": {},
   "outputs": [],
   "source": []
  },
  {
   "cell_type": "code",
   "execution_count": null,
   "id": "6dcf68c6",
   "metadata": {},
   "outputs": [],
   "source": []
  }
 ],
 "metadata": {
  "kernelspec": {
   "display_name": "Python 3 (ipykernel)",
   "language": "python",
   "name": "python3"
  },
  "language_info": {
   "codemirror_mode": {
    "name": "ipython",
    "version": 3
   },
   "file_extension": ".py",
   "mimetype": "text/x-python",
   "name": "python",
   "nbconvert_exporter": "python",
   "pygments_lexer": "ipython3",
   "version": "3.9.7"
  }
 },
 "nbformat": 4,
 "nbformat_minor": 5
}
